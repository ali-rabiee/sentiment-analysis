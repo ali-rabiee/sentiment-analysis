{
  "nbformat": 4,
  "nbformat_minor": 0,
  "metadata": {
    "colab": {
      "name": "sentiment analysis IMDB.ipynb",
      "provenance": []
    },
    "kernelspec": {
      "name": "python3",
      "display_name": "Python 3"
    },
    "language_info": {
      "name": "python"
    },
    "accelerator": "GPU"
  },
  "cells": [
    {
      "cell_type": "code",
      "metadata": {
        "id": "_cxGvb-7GpJu"
      },
      "source": [
        "'''\n",
        "sentiment analysis \n",
        "IMDB dataset\n",
        "'''"
      ],
      "execution_count": null,
      "outputs": []
    },
    {
      "cell_type": "code",
      "metadata": {
        "colab": {
          "base_uri": "https://localhost:8080/"
        },
        "id": "YsNYfDhVGzd5",
        "outputId": "991bef98-5ebe-45a4-a6f2-84949f40a4e5"
      },
      "source": [
        "import torch\n",
        "from torchtext.legacy import data\n",
        "from torchtext.legacy import datasets\n",
        "import random\n",
        "torch.backends.cudnn.deterministic = True\n",
        "text = data.Field(tokenize='spacy',tokenizer_language='en_core_web_sm',include_lengths=True)\n",
        "label = data.LabelField(dtype = torch.float)\n",
        "train_data, test_data = datasets.IMDB.splits(text, label)\n",
        "train_data, valid_data = train_data.split(split_ratio=0.8)"
      ],
      "execution_count": null,
      "outputs": [
        {
          "output_type": "stream",
          "text": [
            "downloading aclImdb_v1.tar.gz\n"
          ],
          "name": "stdout"
        },
        {
          "output_type": "stream",
          "text": [
            "aclImdb_v1.tar.gz: 100%|██████████| 84.1M/84.1M [00:08<00:00, 10.5MB/s]\n"
          ],
          "name": "stderr"
        }
      ]
    },
    {
      "cell_type": "code",
      "metadata": {
        "colab": {
          "base_uri": "https://localhost:8080/"
        },
        "id": "FHDu2rD5HPPx",
        "outputId": "1c82f087-5131-4a74-ed4e-aa9b29689b3c"
      },
      "source": [
        "text.build_vocab(train_data, \n",
        "                 max_size=25000, \n",
        "                 vectors=\"glove.6B.100d\", \n",
        "                 unk_init=torch.Tensor.normal_)\n",
        "label.build_vocab(train_data)"
      ],
      "execution_count": null,
      "outputs": [
        {
          "output_type": "stream",
          "text": [
            ".vector_cache/glove.6B.zip: 862MB [02:43, 5.29MB/s]                           \n",
            "100%|█████████▉| 399157/400000 [00:22<00:00, 18013.63it/s]"
          ],
          "name": "stderr"
        }
      ]
    },
    {
      "cell_type": "code",
      "metadata": {
        "id": "WATVCGfUH-Ha"
      },
      "source": [
        "device = torch.device('cuda' if torch.cuda.is_available() else 'cpu')\n",
        "train_iterator, valid_iterator, test_iterator = data.BucketIterator.splits(\n",
        "    (train_data, valid_data, test_data), \n",
        "    batch_size=64,\n",
        "    sort_within_batch=True,\n",
        "    device=device)"
      ],
      "execution_count": null,
      "outputs": []
    },
    {
      "cell_type": "code",
      "metadata": {
        "id": "Hnu3fHIJIKzL"
      },
      "source": [
        "import torch.nn as nn\n",
        "class LSTM(nn.Module):\n",
        "    def __init__(self, vocab_size, embedding_dim,\n",
        "                 hidden_dim, output_dim, n_layers, \n",
        "                 bidirectional, dropout, pad_idx):     \n",
        "        super().__init__()\n",
        "        self.embedding = nn.Embedding(vocab_size,\n",
        "                                      embedding_dim,\n",
        "                                      padding_idx=pad_idx)      \n",
        "        self.rnn = nn.LSTM(embedding_dim, \n",
        "                           hidden_dim, \n",
        "                           num_layers=n_layers, \n",
        "                           bidirectional=bidirectional, \n",
        "                           dropout=dropout) \n",
        "        self.fc = nn.Linear(hidden_dim*2, output_dim)   \n",
        "        self.dropout = nn.Dropout(dropout)\n",
        "        \n",
        "    def forward(self, text, text_lengths):        \n",
        "        embedded = self.dropout(self.embedding(text))                \n",
        "        packed_embedded = nn.utils.rnn.pack_padded_sequence(embedded,\n",
        "                                                            text_lengths.to('cpu'))        \n",
        "        packed_output, (hidden, cell) = self.rnn(packed_embedded)        \n",
        "        output, output_lengths = nn.utils.rnn.pad_packed_sequence(packed_output)  \n",
        "        hidden = self.dropout(torch.cat((hidden[-2,:,:],\n",
        "                                         hidden[-1,:,:]), dim=1))\n",
        "        out = self.fc(hidden)                 \n",
        "        return out"
      ],
      "execution_count": null,
      "outputs": []
    },
    {
      "cell_type": "code",
      "metadata": {
        "id": "TgFj0_F0J2kS"
      },
      "source": [
        "# Create model\n",
        "import torch.optim as optim\n",
        "pad_ix = text.vocab.stoi[text.pad_token]\n",
        "model = LSTM(len(text.vocab), 100, 256, 1, 2, True, 0.5, pad_ix)\n",
        "optimizer = optim.Adam(model.parameters())\n",
        "criterion = nn.BCEWithLogitsLoss()\n",
        "model = model.to(device)\n",
        "criterion = criterion.to(device)"
      ],
      "execution_count": null,
      "outputs": []
    },
    {
      "cell_type": "code",
      "metadata": {
        "id": "3oOuFdKgUq5O"
      },
      "source": [
        "def binary_accuracy(preds, y):\n",
        "    preds = torch.round(torch.sigmoid(preds))\n",
        "    correct = (preds == y).float() \n",
        "    return correct.sum() / len(correct)\n",
        "\n",
        "def train_model(model, iter, optimizer, criterion):\n",
        "    epoch_loss = 0\n",
        "    epoch_acc = 0\n",
        "    model.train()\n",
        "    for batch in iter:\n",
        "        optimizer.zero_grad()\n",
        "        text, text_lengths = batch.text\n",
        "        preds = model(text, text_lengths).squeeze(1)\n",
        "        loss = criterion(preds, batch.label) \n",
        "        loss.backward()\n",
        "        optimizer.step()\n",
        "        epoch_loss += loss.item()\n",
        "        epoch_acc += binary_accuracy(preds, batch.label)\n",
        "    return epoch_loss / len(iter), epoch_acc / len(iter)\n",
        "\n",
        "def evaluate_model(model, iter, criterion):\n",
        "    epoch_loss = 0\n",
        "    epoch_acc = 0\n",
        "    model.eval()\n",
        "    with torch.no_grad():\n",
        "        for batch in iter:\n",
        "            text, text_lengths = batch.text    \n",
        "            predictions = model(text, text_lengths).squeeze(1)            \n",
        "            loss = criterion(predictions, batch.label)            \n",
        "            epoch_loss += loss.item()\n",
        "            epoch_acc += binary_accuracy(predictions, batch.label)      \n",
        "    return epoch_loss / len(iter), epoch_acc / len(iter)"
      ],
      "execution_count": null,
      "outputs": []
    },
    {
      "cell_type": "code",
      "metadata": {
        "colab": {
          "base_uri": "https://localhost:8080/"
        },
        "id": "BmJx4jeWVMz2",
        "outputId": "f81a8e73-e122-4f74-c292-94c41283c2bf"
      },
      "source": [
        "# Train the model\n",
        "\n",
        "best_valid_loss = float('inf')\n",
        "for epoch in range(10):  \n",
        "    train_loss, train_acc = train_model(model, train_iterator, optimizer, criterion)\n",
        "    valid_loss, valid_acc = evaluate_model(model, valid_iterator, criterion)  \n",
        "    if valid_loss < best_valid_loss:\n",
        "        best_valid_loss = valid_loss\n",
        "        torch.save(model.state_dict(), 'LSTM.pt')\n",
        "    print(f'Epoch: {epoch+1}')\n",
        "    print(f'Train Loss: {train_loss:.3f}')\n",
        "    print(f'Train Acc: {train_acc*100:.2f}%')\n",
        "    print(f'Val Loss: {valid_loss:.3f}')\n",
        "    print(f'Val Acc: {valid_acc*100:.2f}%')\n",
        "    print('---------------')"
      ],
      "execution_count": null,
      "outputs": [
        {
          "output_type": "stream",
          "text": [
            "Epoch: 1\n",
            "Train Loss: 0.673\n",
            "Train Acc: 57.65%\n",
            "Val Loss: 0.644\n",
            "Val Acc: 63.59%\n",
            "---------------\n",
            "Epoch: 2\n",
            "Train Loss: 0.658\n",
            "Train Acc: 60.37%\n",
            "Val Loss: 0.674\n",
            "Val Acc: 55.44%\n",
            "---------------\n",
            "Epoch: 3\n",
            "Train Loss: 0.653\n",
            "Train Acc: 62.04%\n",
            "Val Loss: 0.652\n",
            "Val Acc: 60.90%\n",
            "---------------\n",
            "Epoch: 4\n",
            "Train Loss: 0.569\n",
            "Train Acc: 70.90%\n",
            "Val Loss: 0.472\n",
            "Val Acc: 78.34%\n",
            "---------------\n",
            "Epoch: 5\n",
            "Train Loss: 0.474\n",
            "Train Acc: 78.09%\n",
            "Val Loss: 0.412\n",
            "Val Acc: 81.53%\n",
            "---------------\n",
            "Epoch: 6\n",
            "Train Loss: 0.401\n",
            "Train Acc: 82.05%\n",
            "Val Loss: 0.361\n",
            "Val Acc: 84.30%\n",
            "---------------\n",
            "Epoch: 7\n",
            "Train Loss: 0.350\n",
            "Train Acc: 84.94%\n",
            "Val Loss: 0.332\n",
            "Val Acc: 86.17%\n",
            "---------------\n",
            "Epoch: 8\n",
            "Train Loss: 0.315\n",
            "Train Acc: 86.95%\n",
            "Val Loss: 0.317\n",
            "Val Acc: 87.01%\n",
            "---------------\n",
            "Epoch: 9\n",
            "Train Loss: 0.289\n",
            "Train Acc: 87.95%\n",
            "Val Loss: 0.319\n",
            "Val Acc: 87.60%\n",
            "---------------\n",
            "Epoch: 10\n",
            "Train Loss: 0.264\n",
            "Train Acc: 89.27%\n",
            "Val Loss: 0.354\n",
            "Val Acc: 85.11%\n",
            "---------------\n"
          ],
          "name": "stdout"
        }
      ]
    },
    {
      "cell_type": "code",
      "metadata": {
        "colab": {
          "base_uri": "https://localhost:8080/"
        },
        "id": "qYMkahQvaSE3",
        "outputId": "f0442692-b220-4875-9bbc-798f6b18eb91"
      },
      "source": [
        "model.load_state_dict(torch.load('LSTM.pt'))\n",
        "test_loss, test_acc = evaluate_model(model, test_iterator, criterion)\n",
        "print(f'Test Loss: {test_loss:.3f}')\n",
        "print(f'Test Acc: {test_acc*100:.2f}%')"
      ],
      "execution_count": null,
      "outputs": [
        {
          "output_type": "stream",
          "text": [
            "Test Loss: 0.319\n",
            "Test Acc: 86.62%\n"
          ],
          "name": "stdout"
        }
      ]
    },
    {
      "cell_type": "code",
      "metadata": {
        "id": "sQGPJWIDaoPv"
      },
      "source": [
        "# Load embedded layer from Question 4 & create new model\n",
        "\n",
        "import torch.optim as optim\n",
        "cbow = torch.load('CBOW.pt')\n",
        "model = LSTM(len(cbow['embeddings.weight']), 100, 256, 1, 2, True, 0.5, 1)\n",
        "optimizer = optim.Adam(model.parameters())\n",
        "criterion = nn.BCEWithLogitsLoss()\n",
        "model = model.to(device)\n",
        "criterion = criterion.to(device)"
      ],
      "execution_count": null,
      "outputs": []
    },
    {
      "cell_type": "code",
      "metadata": {
        "colab": {
          "base_uri": "https://localhost:8080/"
        },
        "id": "xMaXdWn4bbDn",
        "outputId": "761c1176-cc64-4aab-9dfc-710697553db3"
      },
      "source": [
        "# Train the model\n",
        "\n",
        "best_valid_loss = float('inf')\n",
        "for epoch in range(10):\n",
        "    train_loss, train_acc = train_model(model, train_iterator, optimizer, criterion)\n",
        "    valid_loss, valid_acc = evaluate_model(model, valid_iterator, criterion)\n",
        "    if valid_loss < best_valid_loss:\n",
        "        best_valid_loss = valid_loss\n",
        "        torch.save(model.state_dict(), 'CBOW_LSTM.pt')\n",
        "    print(f'Epoch: {epoch+1}')\n",
        "    print(f'Train Loss: {train_loss:.3f}')\n",
        "    print(f'Train Acc: {train_acc*100:.2f}%')\n",
        "    print(f'Val Loss: {valid_loss:.3f}')\n",
        "    print(f'Val Acc: {valid_acc*100:.2f}%')\n",
        "    print('---------------')"
      ],
      "execution_count": null,
      "outputs": [
        {
          "output_type": "stream",
          "text": [
            "Epoch: 1\n",
            "Train Loss: 0.674\n",
            "Train Acc: 57.71%\n",
            "Val Loss: 0.633\n",
            "Val Acc: 67.76%\n",
            "---------------\n",
            "Epoch: 2\n",
            "Train Loss: 0.645\n",
            "Train Acc: 62.78%\n",
            "Val Loss: 0.556\n",
            "Val Acc: 72.63%\n",
            "---------------\n",
            "Epoch: 3\n",
            "Train Loss: 0.566\n",
            "Train Acc: 71.55%\n",
            "Val Loss: 0.546\n",
            "Val Acc: 72.78%\n",
            "---------------\n",
            "Epoch: 4\n",
            "Train Loss: 0.569\n",
            "Train Acc: 69.96%\n",
            "Val Loss: 0.601\n",
            "Val Acc: 68.73%\n",
            "---------------\n",
            "Epoch: 5\n",
            "Train Loss: 0.529\n",
            "Train Acc: 73.34%\n",
            "Val Loss: 0.564\n",
            "Val Acc: 72.03%\n",
            "---------------\n",
            "Epoch: 6\n",
            "Train Loss: 0.404\n",
            "Train Acc: 82.14%\n",
            "Val Loss: 0.383\n",
            "Val Acc: 84.08%\n",
            "---------------\n",
            "Epoch: 7\n",
            "Train Loss: 0.357\n",
            "Train Acc: 84.41%\n",
            "Val Loss: 0.435\n",
            "Val Acc: 84.67%\n",
            "---------------\n",
            "Epoch: 8\n",
            "Train Loss: 0.325\n",
            "Train Acc: 86.27%\n",
            "Val Loss: 0.397\n",
            "Val Acc: 84.49%\n",
            "---------------\n",
            "Epoch: 9\n",
            "Train Loss: 0.294\n",
            "Train Acc: 87.91%\n",
            "Val Loss: 0.489\n",
            "Val Acc: 82.67%\n",
            "---------------\n",
            "Epoch: 10\n",
            "Train Loss: 0.274\n",
            "Train Acc: 88.87%\n",
            "Val Loss: 0.300\n",
            "Val Acc: 87.72%\n",
            "---------------\n"
          ],
          "name": "stdout"
        }
      ]
    },
    {
      "cell_type": "code",
      "metadata": {
        "colab": {
          "base_uri": "https://localhost:8080/"
        },
        "id": "Jeo_495Kc5lo",
        "outputId": "4f14628f-c037-41ff-b2c8-6c9840481319"
      },
      "source": [
        "model.load_state_dict(torch.load('CBOW_LSTM.pt'))\n",
        "test_loss, test_acc = evaluate_model(model, test_iterator, criterion)\n",
        "print(f'Test Loss: {test_loss:.3f}')\n",
        "print(f'Test Acc: {test_acc*100:.2f}%')"
      ],
      "execution_count": null,
      "outputs": [
        {
          "output_type": "stream",
          "text": [
            "Test Loss: 0.301\n",
            "Test Acc: 87.56%\n"
          ],
          "name": "stdout"
        }
      ]
    }
  ]
}